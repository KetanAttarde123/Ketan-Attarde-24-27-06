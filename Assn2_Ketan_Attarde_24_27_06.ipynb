{
  "cells": [
    {
      "cell_type": "markdown",
      "id": "35fc9c69-5ecd-4ad5-9f95-70178e2448e7",
      "metadata": {
        "id": "35fc9c69-5ecd-4ad5-9f95-70178e2448e7"
      },
      "source": [
        "### DSTT Assignment2\n",
        "### Ketan Dilip Attarde\n",
        "### Reg No.: 24-27-06\n",
        "### Branch : Mtech(Data Science)"
      ]
    },
    {
      "cell_type": "code",
      "execution_count": null,
      "id": "aaa94c41-a5b2-4d57-ad72-c9915438d62a",
      "metadata": {
        "id": "aaa94c41-a5b2-4d57-ad72-c9915438d62a"
      },
      "outputs": [],
      "source": [
        "import numpy as np"
      ]
    },
    {
      "cell_type": "markdown",
      "id": "25c8aa07-0be9-4316-a2d6-e3a30529c88f",
      "metadata": {
        "id": "25c8aa07-0be9-4316-a2d6-e3a30529c88f"
      },
      "source": [
        "### Question 1"
      ]
    },
    {
      "cell_type": "markdown",
      "id": "16b2405c-adb2-4712-b90f-094390b41ff6",
      "metadata": {
        "id": "16b2405c-adb2-4712-b90f-094390b41ff6"
      },
      "source": [
        "a) Create a variable named var1 that stores an array of numbers from 0 to 30,\n",
        "inclusive. Print var1 and its shape. Hint : arange"
      ]
    },
    {
      "cell_type": "code",
      "execution_count": null,
      "id": "221167f6-86b8-4038-9d92-9c10ea6b1103",
      "metadata": {
        "id": "221167f6-86b8-4038-9d92-9c10ea6b1103",
        "outputId": "8d7f898e-4b53-4c42-8f53-a055070487b4"
      },
      "outputs": [
        {
          "data": {
            "text/plain": [
              "array([ 0,  1,  2,  3,  4,  5,  6,  7,  8,  9, 10, 11, 12, 13, 14, 15, 16,\n",
              "       17, 18, 19, 20, 21, 22, 23, 24, 25, 26, 27, 28, 29, 30])"
            ]
          },
          "execution_count": 89,
          "metadata": {},
          "output_type": "execute_result"
        }
      ],
      "source": [
        "var1 = np.arange(31)\n",
        "var1"
      ]
    },
    {
      "cell_type": "markdown",
      "id": "e0f6abc3-e2fa-4b84-a6bd-e4603ca2f15d",
      "metadata": {
        "id": "e0f6abc3-e2fa-4b84-a6bd-e4603ca2f15d"
      },
      "source": [
        "b) Change var2 to a validly-shaped two-dimensional matrix and store it in a\n",
        "new variable called var2. Print var2 and its shape. Hint: Use the reshape function"
      ]
    },
    {
      "cell_type": "code",
      "execution_count": null,
      "id": "e6cc01a8-f01c-4a89-9d4f-3c0fb580c0dc",
      "metadata": {
        "id": "e6cc01a8-f01c-4a89-9d4f-3c0fb580c0dc",
        "outputId": "14989cc9-2377-4ce2-e1f8-e9f466e6781b"
      },
      "outputs": [
        {
          "data": {
            "text/plain": [
              "array([ 0,  1,  2,  3,  4,  5,  6,  7,  8,  9, 10, 11, 12, 13, 14, 15, 16,\n",
              "       17, 18, 19, 20, 21, 22, 23, 24, 25, 26, 27, 28, 29])"
            ]
          },
          "execution_count": 90,
          "metadata": {},
          "output_type": "execute_result"
        }
      ],
      "source": [
        "var2 = np.arange(30)\n",
        "var2"
      ]
    },
    {
      "cell_type": "code",
      "execution_count": null,
      "id": "558ae023-dad0-4644-8dfe-0d45b34eff3e",
      "metadata": {
        "id": "558ae023-dad0-4644-8dfe-0d45b34eff3e",
        "outputId": "94dd39c6-3f9b-4204-aa1c-d4bf0a4ec437"
      },
      "outputs": [
        {
          "data": {
            "text/plain": [
              "array([[ 0,  1,  2,  3,  4,  5,  6,  7,  8,  9],\n",
              "       [10, 11, 12, 13, 14, 15, 16, 17, 18, 19],\n",
              "       [20, 21, 22, 23, 24, 25, 26, 27, 28, 29]])"
            ]
          },
          "execution_count": 91,
          "metadata": {},
          "output_type": "execute_result"
        }
      ],
      "source": [
        "var2 = var2.reshape(3,10)\n",
        "var2"
      ]
    },
    {
      "cell_type": "markdown",
      "id": "7d3b6b2e-a42b-4be4-870b-5beb0f6c5cd1",
      "metadata": {
        "id": "7d3b6b2e-a42b-4be4-870b-5beb0f6c5cd1"
      },
      "source": [
        "c) Create a third variable, var3 that reshapes it into a valid three-dimensional shape.\n",
        "Print var3 and its shape."
      ]
    },
    {
      "cell_type": "code",
      "execution_count": null,
      "id": "a14df4dc-7871-4ba1-82d6-c1e666e750c7",
      "metadata": {
        "id": "a14df4dc-7871-4ba1-82d6-c1e666e750c7",
        "outputId": "822a6867-a701-41dc-d868-dc04bfab99fd"
      },
      "outputs": [
        {
          "data": {
            "text/plain": [
              "array([ 0,  1,  2,  3,  4,  5,  6,  7,  8,  9, 10, 11, 12, 13, 14, 15, 16,\n",
              "       17, 18, 19, 20, 21, 22, 23, 24, 25, 26])"
            ]
          },
          "execution_count": 92,
          "metadata": {},
          "output_type": "execute_result"
        }
      ],
      "source": [
        "var3 = np.arange(27)\n",
        "var3"
      ]
    },
    {
      "cell_type": "code",
      "execution_count": null,
      "id": "8b35dc07-558e-4f3b-a645-4669aa02457e",
      "metadata": {
        "id": "8b35dc07-558e-4f3b-a645-4669aa02457e",
        "outputId": "e3deb451-da81-4d04-aa6a-bcec44499143"
      },
      "outputs": [
        {
          "data": {
            "text/plain": [
              "array([[[ 0,  1,  2],\n",
              "        [ 3,  4,  5],\n",
              "        [ 6,  7,  8]],\n",
              "\n",
              "       [[ 9, 10, 11],\n",
              "        [12, 13, 14],\n",
              "        [15, 16, 17]],\n",
              "\n",
              "       [[18, 19, 20],\n",
              "        [21, 22, 23],\n",
              "        [24, 25, 26]]])"
            ]
          },
          "execution_count": 93,
          "metadata": {},
          "output_type": "execute_result"
        }
      ],
      "source": [
        "var3 = var3.reshape(3,3,3)\n",
        "var3"
      ]
    },
    {
      "cell_type": "markdown",
      "id": "a66a1159-1b84-45d3-812f-4c1602b0a891",
      "metadata": {
        "id": "a66a1159-1b84-45d3-812f-4c1602b0a891"
      },
      "source": [
        "d) Use two-dimensional array indexing to set the first value in the second row of var2\n",
        "to -1. Now look at var1 and var3. Did they change? Explain what’s\n",
        "going on. (Hint: does reshape return a view or a copy?)"
      ]
    },
    {
      "cell_type": "code",
      "execution_count": null,
      "id": "73a13e6a-2824-46bc-bd0f-6913800e0220",
      "metadata": {
        "id": "73a13e6a-2824-46bc-bd0f-6913800e0220",
        "outputId": "f4de58c4-7ae2-4862-fbfc-15e8cb415843"
      },
      "outputs": [
        {
          "data": {
            "text/plain": [
              "array([[ 0,  1,  2,  3,  4,  5,  6,  7,  8,  9],\n",
              "       [-1, 11, 12, 13, 14, 15, 16, 17, 18, 19],\n",
              "       [20, 21, 22, 23, 24, 25, 26, 27, 28, 29]])"
            ]
          },
          "execution_count": 94,
          "metadata": {},
          "output_type": "execute_result"
        }
      ],
      "source": [
        "var2[1,0]=-1\n",
        "var2"
      ]
    },
    {
      "cell_type": "code",
      "execution_count": null,
      "id": "3f8efe8c-b7c3-4faf-be00-a2739f8137ed",
      "metadata": {
        "id": "3f8efe8c-b7c3-4faf-be00-a2739f8137ed",
        "outputId": "0d7c07c0-124f-4aff-fbe4-cfccd50c91f8"
      },
      "outputs": [
        {
          "name": "stdout",
          "output_type": "stream",
          "text": [
            "[ 0  1  2  3  4  5  6  7  8  9 10 11 12 13 14 15 16 17 18 19 20 21 22 23\n",
            " 24 25 26 27 28 29 30]\n",
            "[[[ 0  1  2]\n",
            "  [ 3  4  5]\n",
            "  [ 6  7  8]]\n",
            "\n",
            " [[ 9 10 11]\n",
            "  [12 13 14]\n",
            "  [15 16 17]]\n",
            "\n",
            " [[18 19 20]\n",
            "  [21 22 23]\n",
            "  [24 25 26]]]\n"
          ]
        }
      ],
      "source": [
        "print(var1)\n",
        "print(var3)"
      ]
    },
    {
      "cell_type": "markdown",
      "id": "62908140-5240-4ccb-9ca7-8fbee0aeccf0",
      "metadata": {
        "id": "62908140-5240-4ccb-9ca7-8fbee0aeccf0"
      },
      "source": [
        "e) Another thing that comes up a lot with array shapes is thinking about how to\n",
        "aggregate over specific dimensions. Figure out how the NumPy sum function\n",
        "works (and the axis argument in particular) and do the following:\n",
        "    (i) Sum var3 over its second dimension and print the result.\n",
        "    (ii) Sum var3 over its third dimension and print the result.\n",
        "    (iii) Sum var3 over both its first and third dimensions and print the result.\n",
        "    "
      ]
    },
    {
      "cell_type": "code",
      "execution_count": null,
      "id": "9a23b355-759e-4bd2-acc0-b87e41b46cee",
      "metadata": {
        "id": "9a23b355-759e-4bd2-acc0-b87e41b46cee",
        "outputId": "ed01aad4-86b3-4174-e2b5-8bc87fc1a212"
      },
      "outputs": [
        {
          "name": "stdout",
          "output_type": "stream",
          "text": [
            "[[ 9 12 15]\n",
            " [36 39 42]\n",
            " [63 66 69]]\n"
          ]
        }
      ],
      "source": [
        "sumvar3 = np.sum(var3,axis=1)\n",
        "print(sumvar3)"
      ]
    },
    {
      "cell_type": "code",
      "execution_count": null,
      "id": "ae78eefc-6902-4707-aad3-78110f7cdfc7",
      "metadata": {
        "id": "ae78eefc-6902-4707-aad3-78110f7cdfc7",
        "outputId": "81b84cc2-35e1-47b1-af04-7e5831a509d3"
      },
      "outputs": [
        {
          "name": "stdout",
          "output_type": "stream",
          "text": [
            "[[ 3 12 21]\n",
            " [30 39 48]\n",
            " [57 66 75]]\n"
          ]
        }
      ],
      "source": [
        " sum_over_third=np.sum(var3,axis=2)\n",
        " print(sum_over_third)"
      ]
    },
    {
      "cell_type": "code",
      "execution_count": null,
      "id": "6d8d0b9f-de8d-4c7a-94d1-32b73de2da6f",
      "metadata": {
        "id": "6d8d0b9f-de8d-4c7a-94d1-32b73de2da6f",
        "outputId": "019387df-293f-488e-834c-d52ab03d1a79"
      },
      "outputs": [
        {
          "name": "stdout",
          "output_type": "stream",
          "text": [
            "[ 90 117 144]\n"
          ]
        }
      ],
      "source": [
        "sum_over_first_second=np.sum(var3,axis=(0,2))\n",
        "print(sum_over_first_second)"
      ]
    },
    {
      "cell_type": "markdown",
      "id": "53e5ba9c-4504-4208-9bc6-9ab9a619475e",
      "metadata": {
        "id": "53e5ba9c-4504-4208-9bc6-9ab9a619475e"
      },
      "source": [
        "f) Write code to do the following:\n",
        "    (i) Slice out the second row of var2 and print it.\n",
        "    (ii) Slice out the last column of var2 using the -1 notation and print it.\n",
        "    (iii) Slice out the top right 2 × 2 submatrix of var2 and print it."
      ]
    },
    {
      "cell_type": "code",
      "execution_count": null,
      "id": "206b3d6c-92bb-4e92-83eb-c89b6f749dad",
      "metadata": {
        "id": "206b3d6c-92bb-4e92-83eb-c89b6f749dad",
        "outputId": "3dacf932-134b-4c98-ee89-eb15da1a825f"
      },
      "outputs": [
        {
          "name": "stdout",
          "output_type": "stream",
          "text": [
            "[[-1 11 12 13 14 15 16 17 18 19]]\n",
            "[ 9 19 29]\n",
            "[[ 8  9]\n",
            " [18 19]]\n"
          ]
        }
      ],
      "source": [
        " print(var2[1:2])\n",
        " print(var2[0:,-1])\n",
        " print(var2[:2,-2:])"
      ]
    },
    {
      "cell_type": "markdown",
      "id": "50e75ed5-e5e1-4962-9daf-d0e50de27c89",
      "metadata": {
        "id": "50e75ed5-e5e1-4962-9daf-d0e50de27c89"
      },
      "source": [
        "### Question 2"
      ]
    },
    {
      "cell_type": "markdown",
      "id": "c4fccf28-3076-4c54-8607-61c08987dfcc",
      "metadata": {
        "id": "c4fccf28-3076-4c54-8607-61c08987dfcc"
      },
      "source": [
        "a) The most basic kind of broadcast is with a scalar, in which you can perform a\n",
        "binary operation (e.g., add, multiply, ...) on an array and a scalar, the effect is to\n",
        "perform that operation with the scalar for every element of the array. To try this\n",
        "out, create a vector 1, 2, . . . , 10 by adding 1 to the result of the arange function.\n"
      ]
    },
    {
      "cell_type": "code",
      "execution_count": null,
      "id": "a0ce38e7-8a59-4f34-ac1c-a691c31929f8",
      "metadata": {
        "id": "a0ce38e7-8a59-4f34-ac1c-a691c31929f8",
        "outputId": "9bca1292-89a5-4fd6-8c8d-711c416db937"
      },
      "outputs": [
        {
          "name": "stdout",
          "output_type": "stream",
          "text": [
            "[ 1  2  3  4  5  6  7  8  9 10]\n"
          ]
        }
      ],
      "source": [
        "res = np.arange(0,10,1)\n",
        "res_broadcasted = arr+1\n",
        "print(arr_broadcasted)"
      ]
    },
    {
      "cell_type": "markdown",
      "id": "030f1d77-ff37-4460-9f6c-c0ac5e0a90e9",
      "metadata": {
        "id": "030f1d77-ff37-4460-9f6c-c0ac5e0a90e9"
      },
      "source": [
        "b) Now, create a 10 × 10 matrix A in which Ai j = i + j. You’ll be able to do this\n",
        "using the vector you just created, and adding it to a reshaped version of itself.\n"
      ]
    },
    {
      "cell_type": "code",
      "execution_count": null,
      "id": "70cfc213-3060-4814-ba1e-f712f651494a",
      "metadata": {
        "id": "70cfc213-3060-4814-ba1e-f712f651494a",
        "outputId": "7304531a-c8a2-4d7b-bdc4-170e05a22b49"
      },
      "outputs": [
        {
          "name": "stdout",
          "output_type": "stream",
          "text": [
            "[[ 0  1  2  3  4  5  6  7  8  9]\n",
            " [ 1  2  3  4  5  6  7  8  9 10]\n",
            " [ 2  3  4  5  6  7  8  9 10 11]\n",
            " [ 3  4  5  6  7  8  9 10 11 12]\n",
            " [ 4  5  6  7  8  9 10 11 12 13]\n",
            " [ 5  6  7  8  9 10 11 12 13 14]\n",
            " [ 6  7  8  9 10 11 12 13 14 15]\n",
            " [ 7  8  9 10 11 12 13 14 15 16]\n",
            " [ 8  9 10 11 12 13 14 15 16 17]\n",
            " [ 9 10 11 12 13 14 15 16 17 18]]\n"
          ]
        }
      ],
      "source": [
        " A = res+res.reshape(10,1)\n",
        " print(A)"
      ]
    },
    {
      "cell_type": "markdown",
      "id": "b295b086-56c3-4a79-ad8b-f0e5e4c59cdb",
      "metadata": {
        "id": "b295b086-56c3-4a79-ad8b-f0e5e4c59cdb"
      },
      "source": [
        "c) A very common use of broadcasting is to standardize data, i.e., to make it have\n",
        "zero mean and unit variance. First, create a fake “data set” with 50 examples,\n",
        "each with five dimensions.\n",
        "import numpy.random as npr\n",
        "data = np.exp(npr.randn ( 50 , 5 ) )\n"
      ]
    },
    {
      "cell_type": "code",
      "execution_count": null,
      "id": "250fe5a2-1b73-4de2-a4fd-d0256e094424",
      "metadata": {
        "id": "250fe5a2-1b73-4de2-a4fd-d0256e094424"
      },
      "outputs": [],
      "source": [
        " data = np.exp(np.random.randn(50,5))"
      ]
    },
    {
      "cell_type": "markdown",
      "id": "3df2a124-585e-45e9-9d16-120dc99f2ac5",
      "metadata": {
        "id": "3df2a124-585e-45e9-9d16-120dc99f2ac5"
      },
      "source": [
        "d) You don’t worry too much about what this code is doing at this stage of the\n",
        "course, but for completeness: it imports the NumPy random number generation\n",
        "library, then generates a 50 × 5 matrix of standard normal\n",
        "M.Tech. Data Science and Modelling & Simulation\n",
        "random variates and exponentiates them. The effect of this is to have a pretend\n",
        "data set of 50 independent and identically-distributed vectors from a log-normal\n",
        "distribution.\n"
      ]
    },
    {
      "cell_type": "code",
      "execution_count": null,
      "id": "8810f405-ccfd-40f9-94d8-205c24bb4e12",
      "metadata": {
        "id": "8810f405-ccfd-40f9-94d8-205c24bb4e12"
      },
      "outputs": [],
      "source": [
        " means = np.mean(data,axis=0)\n",
        " sd = np.std(data,axis=0)"
      ]
    },
    {
      "cell_type": "markdown",
      "id": "adaed880-a930-4c33-b4f6-da56e6cbfd5b",
      "metadata": {
        "id": "adaed880-a930-4c33-b4f6-da56e6cbfd5b"
      },
      "source": [
        "e) Now, compute the mean and standard deviation of each column. This should\n",
        "result in two vectors of length 5. You’ll need to think a little bit about how to use\n",
        "the axis argument to mean and std. Store these vectors into variables and print\n",
        "both of them."
      ]
    },
    {
      "cell_type": "code",
      "execution_count": null,
      "id": "43685c34-0644-484e-8a3f-561e54dca074",
      "metadata": {
        "id": "43685c34-0644-484e-8a3f-561e54dca074",
        "outputId": "e0b24fb7-f332-4191-e4e4-aca93e9b9e20"
      },
      "outputs": [
        {
          "name": "stdout",
          "output_type": "stream",
          "text": [
            "Mean= [1.51667502 1.72754954 1.8706754  1.47229786 1.7419575 ]\n",
            "Standard Diviation= [2.24328134 3.26736521 2.18162767 1.38118514 1.83073208]\n"
          ]
        }
      ],
      "source": [
        "print('Mean= '+str(means))\n",
        "print('Standard Diviation= '+str(sd))"
      ]
    },
    {
      "cell_type": "markdown",
      "id": "df152f9b-3800-4a91-bfc1-6a167eea4fe6",
      "metadata": {
        "id": "df152f9b-3800-4a91-bfc1-6a167eea4fe6"
      },
      "source": [
        "f) Now standardize the data matrix by\n",
        "    1) subtracting the mean off of each column,\n",
        "        and\n",
        "    2) dividing each column by its standard deviation. Do this via broadcasting,\n",
        "        and store the result in a matrix called normalized. To verify that you successfully\n",
        "        did it, compute the mean and standard deviation of\n",
        "        the columns of normalized and print them out."
      ]
    },
    {
      "cell_type": "code",
      "execution_count": null,
      "id": "80680071-5cdc-43d6-8b58-097179072817",
      "metadata": {
        "id": "80680071-5cdc-43d6-8b58-097179072817"
      },
      "outputs": [],
      "source": [
        " std_data=(data-means)/sd"
      ]
    },
    {
      "cell_type": "code",
      "execution_count": null,
      "id": "c804232a-ce85-4583-a688-f68a68a5eede",
      "metadata": {
        "id": "c804232a-ce85-4583-a688-f68a68a5eede",
        "outputId": "65fb71e4-95b6-44f6-bc0d-f54bb42915d0"
      },
      "outputs": [
        {
          "name": "stdout",
          "output_type": "stream",
          "text": [
            "[ 9.54791801e-17  6.07847106e-17  2.19824159e-16 -2.44249065e-16\n",
            "  1.97619698e-16]\n",
            "[1. 1. 1. 1. 1.]\n"
          ]
        }
      ],
      "source": [
        "new_means = np.mean(std_data,axis=0)\n",
        "new_sd = np.std(std_data,axis=0)\n",
        "print(new_means)\n",
        "print(new_sd)"
      ]
    },
    {
      "cell_type": "markdown",
      "id": "09d6616a-f3d9-4b0c-aece-aad4deba3dbd",
      "metadata": {
        "id": "09d6616a-f3d9-4b0c-aece-aad4deba3dbd"
      },
      "source": [
        "### Question 3"
      ]
    },
    {
      "cell_type": "markdown",
      "id": "4cafe5f6-54f3-475b-819c-4294c640a198",
      "metadata": {
        "id": "4cafe5f6-54f3-475b-819c-4294c640a198"
      },
      "source": [
        "a) A Vandermonde matrix is a matrix generated from a vector in which each column\n",
        "of the matrix is an integer power starting from zero. So, if I have a column vector\n",
        "[x1, x2, . . . , xN]\n",
        "T, then the associated (square) Vandermonde matrix would be\n",
        "Use what you learned about broadcasting in the previous problem to write a\n",
        "function that will produce a Vandermonde matrix for a vector [1, 2, . . . ,N]T\n",
        "for any N. Do it without using a loop. Here’s a stub to get you started:\n",
        "def vandermonde (N):\n",
        "vec = np.arange (N) +1\n",
        "# write your code here .\n",
        "Use your function for N = 12, store it in variable named vander, and print the\n",
        "result."
      ]
    },
    {
      "cell_type": "code",
      "execution_count": null,
      "id": "bd6fa556-d8c2-4ba2-a82d-904d35085be5",
      "metadata": {
        "id": "bd6fa556-d8c2-4ba2-a82d-904d35085be5",
        "outputId": "fc814a42-b900-4e30-a053-226f8fd726ca"
      },
      "outputs": [
        {
          "name": "stdout",
          "output_type": "stream",
          "text": [
            "[[           1            1            1            1            1\n",
            "             1            1            1            1            1\n",
            "             1            1]\n",
            " [           1            2            4            8           16\n",
            "            32           64          128          256          512\n",
            "          1024         2048]\n",
            " [           1            3            9           27           81\n",
            "           243          729         2187         6561        19683\n",
            "         59049       177147]\n",
            " [           1            4           16           64          256\n",
            "          1024         4096        16384        65536       262144\n",
            "       1048576      4194304]\n",
            " [           1            5           25          125          625\n",
            "          3125        15625        78125       390625      1953125\n",
            "       9765625     48828125]\n",
            " [           1            6           36          216         1296\n",
            "          7776        46656       279936      1679616     10077696\n",
            "      60466176    362797056]\n",
            " [           1            7           49          343         2401\n",
            "         16807       117649       823543      5764801     40353607\n",
            "     282475249   1977326743]\n",
            " [           1            8           64          512         4096\n",
            "         32768       262144      2097152     16777216    134217728\n",
            "    1073741824   8589934592]\n",
            " [           1            9           81          729         6561\n",
            "         59049       531441      4782969     43046721    387420489\n",
            "    3486784401  31381059609]\n",
            " [           1           10          100         1000        10000\n",
            "        100000      1000000     10000000    100000000   1000000000\n",
            "   10000000000 100000000000]\n",
            " [           1           11          121         1331        14641\n",
            "        161051      1771561     19487171    214358881   2357947691\n",
            "   25937424601 285311670611]\n",
            " [           1           12          144         1728        20736\n",
            "        248832      2985984     35831808    429981696   5159780352\n",
            "   61917364224 743008370688]]\n"
          ]
        }
      ],
      "source": [
        "def vander_Function(N):\n",
        "    vec=np.arange(N)+1\n",
        "    vander=vec.reshape(N,1)\n",
        "    vander=vander**np.arange(N)\n",
        "    return vander\n",
        "\n",
        "vander=vander_Function(12)\n",
        "print(vander)"
      ]
    },
    {
      "cell_type": "markdown",
      "id": "f815af7d-0787-45cf-b09a-cbc1863e6281",
      "metadata": {
        "id": "f815af7d-0787-45cf-b09a-cbc1863e6281"
      },
      "source": [
        "b) Now, let’s make a pretend linear system problem with this matrix. Create a vector\n",
        "of all ones, of length 12 and call it x. Perform a matrix-vector multiplication of\n",
        "vander with the vector you just created and store that in a new vector and call it b.\n",
        "Print the vector b."
      ]
    },
    {
      "cell_type": "code",
      "execution_count": null,
      "id": "4bc83ed5-d270-40b7-9e51-44e7b351682d",
      "metadata": {
        "id": "4bc83ed5-d270-40b7-9e51-44e7b351682d",
        "outputId": "c0e61c7a-2295-4844-dcb0-74a52ab6e6ab"
      },
      "outputs": [
        {
          "data": {
            "text/plain": [
              "array([1., 1., 1., 1., 1., 1., 1., 1., 1., 1., 1., 1.])"
            ]
          },
          "execution_count": 108,
          "metadata": {},
          "output_type": "execute_result"
        }
      ],
      "source": [
        "x = np.ones(12)\n",
        "x"
      ]
    },
    {
      "cell_type": "code",
      "execution_count": null,
      "id": "c0a60964-15ea-4730-af5e-65f2c91ed9cf",
      "metadata": {
        "id": "c0a60964-15ea-4730-af5e-65f2c91ed9cf",
        "outputId": "52445cd4-fb55-444b-9ab8-b761ebb1b5d2"
      },
      "outputs": [
        {
          "data": {
            "text/plain": [
              "array([1.20000000e+01, 4.09500000e+03, 2.65720000e+05, 5.59240500e+06,\n",
              "       6.10351560e+07, 4.35356467e+08, 2.30688120e+09, 9.81706810e+09,\n",
              "       3.53036921e+10, 1.11111111e+11, 3.13842838e+11, 8.10554586e+11])"
            ]
          },
          "execution_count": 109,
          "metadata": {},
          "output_type": "execute_result"
        }
      ],
      "source": [
        "b = np.dot(vander,x)\n",
        "b"
      ]
    },
    {
      "cell_type": "markdown",
      "id": "1d14ab27-cecc-45c9-91e7-cd0973e70f8f",
      "metadata": {
        "id": "1d14ab27-cecc-45c9-91e7-cd0973e70f8f"
      },
      "source": [
        "c) First, solve the linear system the naïve way, pretending like you don’t know x.\n",
        "Import numpy.linalg, invert V and multiply it by b. Print out your result. What\n",
        "should you get for your answer? If the answer is different than what you\n",
        "expected, write a sentence about that difference."
      ]
    },
    {
      "cell_type": "code",
      "execution_count": null,
      "id": "ee29adba-2e12-4992-b40d-6495c4ea8755",
      "metadata": {
        "id": "ee29adba-2e12-4992-b40d-6495c4ea8755",
        "outputId": "f8983f51-410e-4b25-bdc7-70a78f043216"
      },
      "outputs": [
        {
          "name": "stdout",
          "output_type": "stream",
          "text": [
            "[-12.26953125   5.90625     15.421875    -6.03515625   2.05859375\n",
            "   0.92675781   1.00244141   1.00010681   0.99997711   1.00000131\n",
            "   0.99999996   1.        ]\n"
          ]
        }
      ],
      "source": [
        "inv_v = np.linalg.inv(vander)\n",
        "res = np.dot(inv_v,b)\n",
        "print(res)"
      ]
    },
    {
      "cell_type": "markdown",
      "id": "5c7c395d-fdc9-473d-92b4-26410311cf86",
      "metadata": {
        "id": "5c7c395d-fdc9-473d-92b4-26410311cf86"
      },
      "source": [
        "d) Now, solve the same linear system using solve. Print out the result. Does it seem\n",
        "more or less in line with what you’d expect?"
      ]
    },
    {
      "cell_type": "code",
      "execution_count": null,
      "id": "c72176ca-39bd-4937-beb2-b2fc6e507032",
      "metadata": {
        "id": "c72176ca-39bd-4937-beb2-b2fc6e507032",
        "outputId": "f2d589fa-48bb-4bde-90c0-b8d80f32e44a"
      },
      "outputs": [
        {
          "name": "stdout",
          "output_type": "stream",
          "text": [
            "[0.98080503 1.05139768 0.94513807 1.03151945 0.98899166 1.00248816\n",
            " 0.99962407 1.0000384  0.99999737 1.00000012 1.         1.        ]\n"
          ]
        }
      ],
      "source": [
        "res2 = np.linalg.solve(vander,b)\n",
        "print(res2)"
      ]
    },
    {
      "cell_type": "code",
      "execution_count": null,
      "id": "5b9aacda-8a32-4317-ae8d-8f3c6c297f3b",
      "metadata": {
        "id": "5b9aacda-8a32-4317-ae8d-8f3c6c297f3b"
      },
      "outputs": [],
      "source": []
    },
    {
      "cell_type": "markdown",
      "id": "e3226b36-07ce-4a08-9c15-8bd15c63d0d9",
      "metadata": {
        "id": "e3226b36-07ce-4a08-9c15-8bd15c63d0d9"
      },
      "source": [
        "<b>Github Profile : https://github.com/KetanAttarde123 <b>\n",
        "<br>\n",
        "<b>Github link : https://github.com/KetanAttarde123/Ketan-Attarde-24-27-06 <b>"
      ]
    }
  ],
  "metadata": {
    "kernelspec": {
      "display_name": "Python 3 (ipykernel)",
      "language": "python",
      "name": "python3"
    },
    "language_info": {
      "codemirror_mode": {
        "name": "ipython",
        "version": 3
      },
      "file_extension": ".py",
      "mimetype": "text/x-python",
      "name": "python",
      "nbconvert_exporter": "python",
      "pygments_lexer": "ipython3",
      "version": "3.12.4"
    },
    "colab": {
      "provenance": []
    }
  },
  "nbformat": 4,
  "nbformat_minor": 5
}